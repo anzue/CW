{
 "cells": [
  {
   "cell_type": "code",
   "execution_count": 1,
   "metadata": {},
   "outputs": [
    {
     "name": "stdout",
     "output_type": "stream",
     "text": [
      "Num GPUs Available:  1\n"
     ]
    }
   ],
   "source": [
    "%load_ext lab_black\n",
    "\n",
    "import errno\n",
    "import json\n",
    "import os\n",
    "import shutil\n",
    "import stat\n",
    "from copy import deepcopy\n",
    "from datetime import datetime\n",
    "from enum import Enum\n",
    "from os import listdir\n",
    "from os.path import isfile, join\n",
    "from pathlib import Path\n",
    "from random import random\n",
    "\n",
    "import cv2\n",
    "import matplotlib.pyplot as plt\n",
    "import numpy as np\n",
    "import scipy.io\n",
    "import tensorflow as tf\n",
    "from keras import Model\n",
    "from keras.applications.vgg16 import VGG16\n",
    "from keras.applications.vgg19 import VGG19\n",
    "from keras.layers import *\n",
    "from PIL import Image, ImageDraw\n",
    "from tensorflow.keras.applications import imagenet_utils\n",
    "from tensorflow.keras.applications.resnet50 import preprocess_input\n",
    "from tensorflow.keras.losses import categorical_crossentropy\n",
    "from tensorflow.keras.optimizers import Adam\n",
    "from tqdm.notebook import tqdm\n",
    "\n",
    "# tf.debugging.set_log_device_placement(True)\n",
    "plt.rcParams[\"figure.figsize\"] = [40, 20]\n",
    "print(\"Num GPUs Available: \", len(tf.config.experimental.list_physical_devices(\"GPU\")))"
   ]
  },
  {
   "cell_type": "code",
   "execution_count": 2,
   "metadata": {},
   "outputs": [],
   "source": [
    "from ArrayLoader import *\n",
    "from augmentation import *\n",
    "from CWDataset import *\n",
    "from datautils import *"
   ]
  },
  {
   "cell_type": "code",
   "execution_count": 3,
   "metadata": {},
   "outputs": [],
   "source": [
    "original_path = Path(\"data/CW/original\")\n",
    "generated_path = Path(\"data/CW/generatedBig\")"
   ]
  },
  {
   "cell_type": "code",
   "execution_count": 4,
   "metadata": {},
   "outputs": [
    {
     "name": "stdout",
     "output_type": "stream",
     "text": [
      "Found 0 webp files. Converting\n"
     ]
    }
   ],
   "source": [
    "convert_wepb(original_path)"
   ]
  },
  {
   "cell_type": "code",
   "execution_count": 5,
   "metadata": {},
   "outputs": [],
   "source": [
    "real_shape = (544, 1280, 3)\n",
    "save_shape = (544 // 4, 1280 // 4, 3)\n",
    "augmented_samples = 20"
   ]
  },
  {
   "cell_type": "code",
   "execution_count": 6,
   "metadata": {},
   "outputs": [],
   "source": [
    "def augment():\n",
    "    labels_json = dict()\n",
    "    original_images = list(original_path.glob(\"*.jpeg\"))\n",
    "    for image_path in tqdm(original_images):\n",
    "        #   print(image_path)\n",
    "        img, labels = load_image(image_path)\n",
    "        res_im, res_la = generate_augmentations_for_image(\n",
    "            img, labels, augmented_samples\n",
    "        )\n",
    "\n",
    "        for i in range(len(res_im)):\n",
    "            new_path = generated_path.joinpath(\n",
    "                image_path.name.split(\".\")[0] + \"_generated_\" + str(i) + \".jpeg\"\n",
    "            )\n",
    "            # print(new_path)\n",
    "            cv2.imwrite(str(new_path), res_im[i])  # res_la[i])\n",
    "            labels_json[new_path.name] = {\"labels\": np.asarray(res_la[i]).tolist()}\n",
    "\n",
    "        del res_im\n",
    "        del res_la\n",
    "\n",
    "    with open(str(generated_path.joinpath(\"labels.json\")), \"w\") as f:\n",
    "        json.dump(labels_json, f)"
   ]
  },
  {
   "cell_type": "code",
   "execution_count": 7,
   "metadata": {},
   "outputs": [
    {
     "name": "stderr",
     "output_type": "stream",
     "text": [
      "100%|████████████████████████████████████████████████████████████████████████████████████████████████| 143/143 [00:43<00:00,  3.29it/s]\n"
     ]
    }
   ],
   "source": [
    "augment()"
   ]
  },
  {
   "cell_type": "code",
   "execution_count": 8,
   "metadata": {},
   "outputs": [
    {
     "name": "stdout",
     "output_type": "stream",
     "text": [
      "Train 2249\n",
      "Test  296\n",
      "Vali  295\n"
     ]
    }
   ],
   "source": [
    "dataset = CWDataset(generated_path)"
   ]
  }
 ],
 "metadata": {
  "kernelspec": {
   "display_name": "Python 3",
   "language": "python",
   "name": "python3"
  },
  "language_info": {
   "codemirror_mode": {
    "name": "ipython",
    "version": 3
   },
   "file_extension": ".py",
   "mimetype": "text/x-python",
   "name": "python",
   "nbconvert_exporter": "python",
   "pygments_lexer": "ipython3",
   "version": "3.8.3"
  }
 },
 "nbformat": 4,
 "nbformat_minor": 4
}
